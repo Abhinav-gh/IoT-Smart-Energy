{
 "cells": [
  {
   "cell_type": "code",
   "execution_count": 6,
   "metadata": {},
   "outputs": [
    {
     "name": "stdout",
     "output_type": "stream",
     "text": [
      "['ModuleType', '__all__', '__author__', '__builtins__', '__cached__', '__doc__', '__email__', '__file__', '__loader__', '__name__', '__package__', '__path__', '__spec__', '__version__', '_find_addons', '_get_addon_target', '_utils', 'attrgetter', 'constraints', 'data_processing', 'datasets', 'entry_points', 'errors', 'evaluation', 'io', 'lite', 'logging', 'metadata', 'metrics', 'multi_table', 'sampling', 'sequential', 'single_table', 'sys', 'utils', 'version', 'warnings']\n"
     ]
    }
   ],
   "source": [
    "import sdv\n",
    "print(dir(sdv))"
   ]
  },
  {
   "cell_type": "code",
   "execution_count": 7,
   "metadata": {},
   "outputs": [],
   "source": [
    "# # Import required libraries\n",
    "# import pandas as pd\n",
    "# import numpy as np\n",
    "# from sdv.timeseries import PAR, TimeSeriesGAN\n",
    "# from sdv.evaluation.timeseries import evaluate_timeseries\n",
    "# from sdv.metadata import SingleTableMetadata\n",
    "\n",
    "# # Load dataset\n",
    "# data = pd.read_csv('train.csv')\n",
    "\n",
    "# # Convert timestamp to datetime\n",
    "# data['timestamp'] = pd.to_datetime(data['timestamp'])\n",
    "\n",
    "# # Filter data for building_id = 1 and meter = 0\n",
    "# data = data[(data['building_id'] == 1) & (data['meter'] == 0)]\n",
    "\n",
    "# # Drop unnecessary columns\n",
    "# data = data[['timestamp', 'meter_reading']]\n",
    "\n",
    "# # Check if data is valid\n",
    "# if data.empty:\n",
    "#     raise ValueError(\"Filtered data is empty. Check if building_id and meter are valid.\")\n",
    "\n",
    "# # Create metadata for the time series data\n",
    "# metadata = SingleTableMetadata()\n",
    "\n",
    "# # Define metadata for time series\n",
    "# metadata.detect_from_dataframe(data)\n",
    "\n",
    "# # Print metadata to verify\n",
    "# print(\"Detected Metadata:\\n\", metadata.to_dict())\n",
    "\n",
    "# # Define the primary key and timestamp column for time series\n",
    "# metadata.update_column(\n",
    "#     column_name='timestamp',\n",
    "#     sdtype='datetime',\n",
    "#     pii=False\n",
    "# )\n",
    "# metadata.set_primary_key('timestamp')\n",
    "\n",
    "# # Prepare data for TimeSeriesGAN or PAR model\n",
    "# # Group by timestamp to create time series sequences\n",
    "# data = data.set_index('timestamp').sort_index()\n",
    "# grouped_data = data.resample('H').mean().fillna(0).reset_index()\n",
    "\n",
    "# # Reshape data to a time series format with one entity\n",
    "# time_series_data = pd.DataFrame(grouped_data)\n",
    "\n",
    "# # Check data summary\n",
    "# print(f\"Data Summary:\\n{time_series_data.head()}\")\n",
    "\n",
    "# # Initialize and fit TimeSeriesGAN or PAR model\n",
    "# model = TimeSeriesGAN(\n",
    "#     metadata=metadata,\n",
    "#     sequence_length=24,  # 24 hours of data in each sequence\n",
    "#     epochs=300,\n",
    "#     batch_size=64\n",
    "# )\n",
    "\n",
    "# # Fit the model on real data\n",
    "# print(\"Fitting the model on real data...\")\n",
    "# model.fit(time_series_data)\n",
    "\n",
    "# # Generate synthetic data\n",
    "# num_sequences_to_generate = 1000  # Number of synthetic sequences to generate\n",
    "# synthetic_data = model.sample(num_sequences_to_generate)\n",
    "\n",
    "# # Save synthetic data to CSV\n",
    "# synthetic_data.to_csv('synthetic_data_sdv.csv', index=False)\n",
    "# print(f\"Synthetic data successfully generated and saved to 'synthetic_data_sdv.csv'\")\n",
    "\n",
    "# # Evaluate the synthetic data\n",
    "# evaluation_score = evaluate_timeseries(real_data=time_series_data, synthetic_data=synthetic_data)\n",
    "# print(f\"Evaluation Score (0 to 1): {evaluation_score}\")\n",
    "\n",
    "# # Visualization of real vs synthetic data\n",
    "# import matplotlib.pyplot as plt\n",
    "\n",
    "# # Plot real vs synthetic meter_reading data\n",
    "# plt.figure(figsize=(12, 6))\n",
    "# plt.plot(time_series_data['timestamp'][:100], time_series_data['meter_reading'][:100], label='Real Data')\n",
    "# plt.plot(synthetic_data['timestamp'][:100], synthetic_data['meter_reading'][:100], label='Synthetic Data')\n",
    "# plt.xlabel('Timestamp')\n",
    "# plt.ylabel('Meter Reading')\n",
    "# plt.title('Real vs Synthetic Meter Reading')\n",
    "# plt.legend()\n",
    "# plt.grid(True)\n",
    "# plt.show()"
   ]
  }
 ],
 "metadata": {
  "kernelspec": {
   "display_name": "iotenv",
   "language": "python",
   "name": "python3"
  },
  "language_info": {
   "codemirror_mode": {
    "name": "ipython",
    "version": 3
   },
   "file_extension": ".py",
   "mimetype": "text/x-python",
   "name": "python",
   "nbconvert_exporter": "python",
   "pygments_lexer": "ipython3",
   "version": "3.12.4"
  }
 },
 "nbformat": 4,
 "nbformat_minor": 2
}
