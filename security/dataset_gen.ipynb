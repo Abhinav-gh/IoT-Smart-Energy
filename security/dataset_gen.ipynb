{
 "cells": [
  {
   "cell_type": "code",
   "execution_count": 2,
   "metadata": {},
   "outputs": [],
   "source": [
    "import polars as pl\n",
    "import numpy as np\n",
    "np.random.seed(42)"
   ]
  },
  {
   "cell_type": "code",
   "execution_count": 3,
   "metadata": {},
   "outputs": [
    {
     "name": "stdout",
     "output_type": "stream",
     "text": [
      "shape: (12_060_910, 4)\n",
      "┌─────────────┬───────┬─────────────────────┬───────────────┐\n",
      "│ building_id ┆ meter ┆ timestamp           ┆ meter_reading │\n",
      "│ ---         ┆ ---   ┆ ---                 ┆ ---           │\n",
      "│ i64         ┆ i64   ┆ datetime[μs]        ┆ f64           │\n",
      "╞═════════════╪═══════╪═════════════════════╪═══════════════╡\n",
      "│ 0           ┆ 0     ┆ 2016-01-01 00:00:00 ┆ 0.0           │\n",
      "│ 1           ┆ 0     ┆ 2016-01-01 00:00:00 ┆ 0.0           │\n",
      "│ 2           ┆ 0     ┆ 2016-01-01 00:00:00 ┆ 0.0           │\n",
      "│ 3           ┆ 0     ┆ 2016-01-01 00:00:00 ┆ 0.0           │\n",
      "│ 4           ┆ 0     ┆ 2016-01-01 00:00:00 ┆ 0.0           │\n",
      "│ …           ┆ …     ┆ …                   ┆ …             │\n",
      "│ 1444        ┆ 0     ┆ 2016-12-31 23:00:00 ┆ 8.75          │\n",
      "│ 1445        ┆ 0     ┆ 2016-12-31 23:00:00 ┆ 4.825         │\n",
      "│ 1446        ┆ 0     ┆ 2016-12-31 23:00:00 ┆ 0.0           │\n",
      "│ 1447        ┆ 0     ┆ 2016-12-31 23:00:00 ┆ 159.575       │\n",
      "│ 1448        ┆ 0     ┆ 2016-12-31 23:00:00 ┆ 2.85          │\n",
      "└─────────────┴───────┴─────────────────────┴───────────────┘\n"
     ]
    }
   ],
   "source": [
    "df = (\n",
    "    pl.scan_csv(\"data/train.csv\")\n",
    "    .filter(pl.col(\"meter\") == 0)\n",
    "    .with_columns(pl.col(\"timestamp\").str.to_datetime(\"%Y-%m-%d %H:%M:%S\").alias(\"timestamp\"))\n",
    ").collect()\n",
    "print(df)   "
   ]
  },
  {
   "cell_type": "code",
   "execution_count": 4,
   "metadata": {},
   "outputs": [
    {
     "name": "stdout",
     "output_type": "stream",
     "text": [
      "shape: (12_060_910, 6)\n",
      "┌─────────────┬───────┬─────────────────────┬───────────────┬────────────────┬────────┐\n",
      "│ building_id ┆ meter ┆ timestamp           ┆ meter_reading ┆ modified_meter ┆ attack │\n",
      "│ ---         ┆ ---   ┆ ---                 ┆ ---           ┆ ---            ┆ ---    │\n",
      "│ i64         ┆ i64   ┆ datetime[μs]        ┆ f64           ┆ f64            ┆ i64    │\n",
      "╞═════════════╪═══════╪═════════════════════╪═══════════════╪════════════════╪════════╡\n",
      "│ 0           ┆ 0     ┆ 2016-01-01 00:00:00 ┆ 0.0           ┆ -39.967204     ┆ 1      │\n",
      "│ 1           ┆ 0     ┆ 2016-01-01 00:00:00 ┆ 0.0           ┆ 0.0            ┆ 0      │\n",
      "│ 2           ┆ 0     ┆ 2016-01-01 00:00:00 ┆ 0.0           ┆ -8.945045      ┆ 1      │\n",
      "│ 3           ┆ 0     ┆ 2016-01-01 00:00:00 ┆ 0.0           ┆ -98.928972     ┆ 1      │\n",
      "│ 4           ┆ 0     ┆ 2016-01-01 00:00:00 ┆ 0.0           ┆ 0.0            ┆ 0      │\n",
      "│ …           ┆ …     ┆ …                   ┆ …             ┆ …              ┆ …      │\n",
      "│ 1444        ┆ 0     ┆ 2016-12-31 23:00:00 ┆ 8.75          ┆ 8.75           ┆ 0      │\n",
      "│ 1445        ┆ 0     ┆ 2016-12-31 23:00:00 ┆ 4.825         ┆ -3.586294      ┆ 1      │\n",
      "│ 1446        ┆ 0     ┆ 2016-12-31 23:00:00 ┆ 0.0           ┆ 0.0            ┆ 0      │\n",
      "│ 1447        ┆ 0     ┆ 2016-12-31 23:00:00 ┆ 159.575       ┆ 159.575        ┆ 0      │\n",
      "│ 1448        ┆ 0     ┆ 2016-12-31 23:00:00 ┆ 2.85          ┆ 64.282171      ┆ 1      │\n",
      "└─────────────┴───────┴─────────────────────┴───────────────┴────────────────┴────────┘\n"
     ]
    }
   ],
   "source": [
    "p = 0.3 \n",
    "num_rows = len(df)\n",
    "num_to_modify = int(p * num_rows) \n",
    "indices_to_modify = set(np.random.choice(num_rows, num_to_modify, replace=False))\n",
    "a = 100\n",
    "def modify_value(x, idx):\n",
    "    if idx in indices_to_modify:\n",
    "        return x + (np.random.rand()-0.5)*2*a, 1 \n",
    "    return x, 0\n",
    "df = df.with_columns(pl.Series(\"index\", range(num_rows)))\n",
    "\n",
    "# Step 2: Combine 'meter_reading' and 'index' into a Struct and apply function\n",
    "df = df.with_columns(\n",
    "    pl.struct([\"index\",\"meter_reading\"]).map_elements(lambda i: modify_value(i[\"meter_reading\"],i[\"index\"]),return_dtype=pl.List(pl.Float64)).alias(\"modification\")\n",
    ")\n",
    "\n",
    "# # Step 3: Extract fields from Struct\n",
    "df = df.with_columns([\n",
    "    pl.col(\"modification\").list.get(0,null_on_oob=True).alias(\"modified_meter\"),\n",
    "    pl.col(\"modification\").list.get(1,null_on_oob=True).cast(dtype=pl.Int64).alias(\"attack\")\n",
    "]).drop([\"modification\", \"index\"])  # Clean up extra columns\n",
    "print(df)"
   ]
  },
  {
   "cell_type": "code",
   "execution_count": 5,
   "metadata": {},
   "outputs": [],
   "source": [
    "df.write_csv(\"data/train_with_attack.csv\")"
   ]
  }
 ],
 "metadata": {
  "kernelspec": {
   "display_name": "ml_venv",
   "language": "python",
   "name": "python3"
  },
  "language_info": {
   "codemirror_mode": {
    "name": "ipython",
    "version": 3
   },
   "file_extension": ".py",
   "mimetype": "text/x-python",
   "name": "python",
   "nbconvert_exporter": "python",
   "pygments_lexer": "ipython3",
   "version": "3.11.2"
  }
 },
 "nbformat": 4,
 "nbformat_minor": 2
}
