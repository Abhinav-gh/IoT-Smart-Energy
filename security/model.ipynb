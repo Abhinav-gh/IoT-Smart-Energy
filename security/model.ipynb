{
 "cells": [
  {
   "cell_type": "code",
   "execution_count": null,
   "metadata": {},
   "outputs": [],
   "source": [
    "import pandas as pd\n",
    "from sklearn.preprocessing import LabelEncoder\n",
    "# from sklearn.tree import DecisionTreeClassifier\n",
    "from sklearn.ensemble import RandomForestClassifier\n",
    "from sklearn.model_selection import train_test_split \n",
    "from sklearn import metrics"
   ]
  },
  {
   "cell_type": "code",
   "execution_count": null,
   "metadata": {},
   "outputs": [],
   "source": [
    "df_pow = pd.read_csv(\"data/train_with_attack.csv\")\n",
    "df_building = pd.read_csv(\"data/building_metadata.csv\").fillna(-1.0)\n",
    "df_merge = pd.merge(df_pow,df_building,on='building_id')\n",
    "df_merge['timestamp'] = pd.to_datetime(df_merge['timestamp'])"
   ]
  },
  {
   "cell_type": "code",
   "execution_count": null,
   "metadata": {},
   "outputs": [],
   "source": [
    "for i in df_merge.columns:\n",
    "    print(f\"{i} : {df_merge[i].isna().sum()}\")\n",
    "print(\"\\n\")\n",
    "df_merge.info()"
   ]
  },
  {
   "cell_type": "code",
   "execution_count": null,
   "metadata": {},
   "outputs": [],
   "source": [
    "# df_merge = df_merge.fillna(-1.0)\n",
    "df_merge['weekday'] = df_merge['timestamp'].apply(lambda x : x.weekday())"
   ]
  },
  {
   "cell_type": "code",
   "execution_count": null,
   "metadata": {},
   "outputs": [],
   "source": [
    "le_p = LabelEncoder()\n",
    "df_merge['primary_use'] = le_p.fit_transform(df_merge['primary_use'])\n",
    "x = df_merge.drop(columns=['meter','timestamp','meter_reading','attack'])\n",
    "y = df_merge['attack']"
   ]
  },
  {
   "cell_type": "code",
   "execution_count": null,
   "metadata": {},
   "outputs": [],
   "source": [
    "x_tr,x_te,y_tr,y_te = train_test_split(x,y,test_size=0.2,random_state=42)"
   ]
  },
  {
   "cell_type": "code",
   "execution_count": null,
   "metadata": {},
   "outputs": [],
   "source": [
    "model_dt = RandomForestClassifier(n_estimators=100,criterion='gini',n_jobs=-1,random_state=42)\n",
    "model_dt.fit(X=x_tr,y=y_tr)"
   ]
  },
  {
   "cell_type": "code",
   "execution_count": null,
   "metadata": {},
   "outputs": [],
   "source": [
    "y_pred = model_dt.predict(x_te)\n",
    "metrics.accuracy_score(y_te,y_pred)"
   ]
  }
 ],
 "metadata": {
  "kernelspec": {
   "display_name": "ml_venv",
   "language": "python",
   "name": "python3"
  },
  "language_info": {
   "codemirror_mode": {
    "name": "ipython",
    "version": 3
   },
   "file_extension": ".py",
   "mimetype": "text/x-python",
   "name": "python",
   "nbconvert_exporter": "python",
   "pygments_lexer": "ipython3",
   "version": "3.11.2"
  }
 },
 "nbformat": 4,
 "nbformat_minor": 2
}
