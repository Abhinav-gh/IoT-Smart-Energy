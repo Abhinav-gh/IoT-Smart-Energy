{
 "cells": [
  {
   "cell_type": "code",
   "execution_count": null,
   "metadata": {},
   "outputs": [],
   "source": [
    "import pandas as pd\n",
    "import numpy as np\n",
    "import matplotlib.pyplot as plt\n",
    "import seaborn as sns"
   ]
  },
  {
   "cell_type": "code",
   "execution_count": null,
   "metadata": {},
   "outputs": [],
   "source": [
    "df_weather_train = pd.read_csv(\"weather_train.csv\")\n",
    "df_weather_train.info()"
   ]
  },
  {
   "cell_type": "code",
   "execution_count": null,
   "metadata": {},
   "outputs": [],
   "source": [
    "def plot_gb(df : pd.DataFrame,group_by : str,x : str,y : str,fig_size : tuple[int,int] = (30,10)):\n",
    "    ax = plt.figure(figsize=fig_size).gca()  # Create a single figure and axis\n",
    "\n",
    "    for id, group in df.groupby(group_by):\n",
    "        group.plot(x=x, y=y, ax=ax, label=f\"{group_by} {id}\")\n",
    "\n",
    "    plt.title(f\"{x} vs {y} for different {group_by}\")\n",
    "    plt.xlabel(f\"{x}\")\n",
    "    plt.ylabel(f\"{y}\")\n",
    "    plt.legend()\n",
    "    plt.show()"
   ]
  },
  {
   "cell_type": "code",
   "execution_count": null,
   "metadata": {},
   "outputs": [],
   "source": [
    "# for y in df_weather_train.columns.difference(['timestamp','site_id']):\n",
    "#     plot_gb(df=df_weather_train,x=\"timestamp\",y=y,group_by=\"site_id\")"
   ]
  },
  {
   "cell_type": "code",
   "execution_count": null,
   "metadata": {},
   "outputs": [],
   "source": [
    "df_weather_train.groupby(\"site_id\").plot(x=\"timestamp\",y=\"air_temperature\",subplots=True,figsize=(30,10))"
   ]
  },
  {
   "cell_type": "code",
   "execution_count": null,
   "metadata": {},
   "outputs": [],
   "source": [
    "df_building = pd.read_csv(\"building_metadata.csv\")\n",
    "df_building.info()"
   ]
  },
  {
   "cell_type": "code",
   "execution_count": null,
   "metadata": {},
   "outputs": [],
   "source": [
    "# Create subplots with 3 columns\n",
    "fig, ax = plt.subplots(nrows=2, ncols=2, figsize=(20, 20))\n",
    "\n",
    "# Filter data for site_id == 0\n",
    "fil_col_building = df_building[df_building[\"site_id\"] == 1]\n",
    "\n",
    "# Pie chart for primary_use distribution\n",
    "counts_primary_use = fil_col_building['primary_use'].value_counts()\n",
    "ax[0,0].pie(counts_primary_use.values, labels=counts_primary_use.keys(), autopct='%1.1f%%')\n",
    "ax[0,0].set_title(\"Primary Use Distribution\")\n",
    "\n",
    "# Histogram for square_feet distribution\n",
    "ax[0,1].hist(fil_col_building['square_feet'], bins=15, color='skyblue', edgecolor='black')\n",
    "ax[0,1].set_title(\"Square Feet Distribution\")\n",
    "ax[0,1].set_xlabel(\"Square Feet\")\n",
    "ax[0,1].set_ylabel(\"Frequency\")\n",
    "\n",
    "# Bar chart for year_built distribution\n",
    "count_year = fil_col_building['year_built'].value_counts().sort_index()\n",
    "ax[1,0].bar(count_year.index, count_year.values, color='orange')\n",
    "ax[1,0].set_title(\"Year Built Distribution\")\n",
    "ax[1,0].set_xlabel(\"Year Built\")\n",
    "ax[1,0].set_ylabel(\"Count\")\n",
    "ax[1,0].tick_params(axis='x', rotation=45)  # Rotate x-axis labels for better readability\n",
    "\n",
    "count_floor = fil_col_building['floor_count'].value_counts().sort_index()\n",
    "ax[1,1].bar(count_floor.index, count_floor.values, color='orange')\n",
    "ax[1,1].set_title(\"Year Built Distribution\")\n",
    "ax[1,1].set_xlabel(\"Year Built\")\n",
    "ax[1,1].set_ylabel(\"Count\")\n",
    "ax[1,1].tick_params(axis='x', rotation=45)\n",
    "# Show the plot\n",
    "plt.tight_layout()\n",
    "plt.show()"
   ]
  }
 ],
 "metadata": {
  "kernelspec": {
   "display_name": "venv_pe",
   "language": "python",
   "name": "python3"
  },
  "language_info": {
   "codemirror_mode": {
    "name": "ipython",
    "version": 3
   },
   "file_extension": ".py",
   "mimetype": "text/x-python",
   "name": "python",
   "nbconvert_exporter": "python",
   "pygments_lexer": "ipython3",
   "version": "3.11.2"
  }
 },
 "nbformat": 4,
 "nbformat_minor": 2
}
