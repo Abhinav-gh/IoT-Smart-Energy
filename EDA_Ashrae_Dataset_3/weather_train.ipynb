{
 "cells": [
  {
   "cell_type": "code",
   "execution_count": null,
   "metadata": {},
   "outputs": [],
   "source": [
    "import pandas as pd\n",
    "import numpy as np\n",
    "import matplotlib.pyplot as plt"
   ]
  },
  {
   "cell_type": "code",
   "execution_count": null,
   "metadata": {},
   "outputs": [],
   "source": [
    "df_weather_train = pd.read_csv(\"weather_train.csv\")\n",
    "df_weather_train.info()"
   ]
  },
  {
   "cell_type": "code",
   "execution_count": null,
   "metadata": {},
   "outputs": [],
   "source": [
    "def plot_gb(df : pd.DataFrame,group_by : str,x : str,y : str,fig_size : tuple[int,int] = (30,10)):\n",
    "    ax = plt.figure(figsize=fig_size).gca()  # Create a single figure and axis\n",
    "\n",
    "    for id, group in df.groupby(group_by):\n",
    "        group.plot(x=x, y=y, ax=ax, label=f\"{group_by} {id}\")\n",
    "\n",
    "    plt.title(f\"{x} vs {y} for different {group_by}\")\n",
    "    plt.xlabel(f\"{x}\")\n",
    "    plt.ylabel(f\"{y}\")\n",
    "    plt.legend()\n",
    "    plt.show()"
   ]
  },
  {
   "cell_type": "code",
   "execution_count": null,
   "metadata": {},
   "outputs": [],
   "source": [
    "for y in df_weather_train.columns.difference(['timestamp','site_id']):\n",
    "    plot_gb(df=df_weather_train,x=\"timestamp\",y=y,group_by=\"site_id\")"
   ]
  },
  {
   "cell_type": "code",
   "execution_count": null,
   "metadata": {},
   "outputs": [],
   "source": []
  }
 ],
 "metadata": {
  "kernelspec": {
   "display_name": "iotenv",
   "language": "python",
   "name": "python3"
  },
  "language_info": {
   "codemirror_mode": {
    "name": "ipython",
    "version": 3
   },
   "file_extension": ".py",
   "mimetype": "text/x-python",
   "name": "python",
   "nbconvert_exporter": "python",
   "pygments_lexer": "ipython3",
   "version": "3.12.4"
  }
 },
 "nbformat": 4,
 "nbformat_minor": 2
}
