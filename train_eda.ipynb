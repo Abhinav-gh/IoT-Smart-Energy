{
 "cells": [
  {
   "cell_type": "code",
   "execution_count": null,
   "metadata": {},
   "outputs": [],
   "source": [
    "import pandas as pd\n",
    "import numpy as np\n",
    "import matplotlib.pyplot as plt"
   ]
  },
  {
   "cell_type": "code",
   "execution_count": null,
   "metadata": {},
   "outputs": [],
   "source": [
    "# df_weather_train = pd.read_csv(\"../ashrae-energy-prediction/train.csv\")\n",
    "df_weather_train = pd.read_csv(\"train.csv\")\n",
    "df_weather_train.info()"
   ]
  },
  {
   "cell_type": "code",
   "execution_count": null,
   "metadata": {},
   "outputs": [],
   "source": [
    "# Load the dataset (assuming you've already read it)\n",
    "df_weather_train.describe()"
   ]
  },
  {
   "cell_type": "code",
   "execution_count": null,
   "metadata": {},
   "outputs": [],
   "source": [
    "df_weather_train.isnull().sum()"
   ]
  },
  {
   "cell_type": "code",
   "execution_count": null,
   "metadata": {},
   "outputs": [],
   "source": [
    "import seaborn as sns\n",
    "import matplotlib.pyplot as plt\n",
    "\n",
    "plt.figure(figsize=(12, 6))\n",
    "sns.histplot(df_weather_train[\"meter_reading\"], bins=50, kde=True)\n",
    "plt.xlabel(\"Meter Reading\")\n",
    "plt.ylabel(\"Frequency\")\n",
    "plt.title(\"Distribution of Meter Readings\")\n",
    "plt.show()"
   ]
  },
  {
   "cell_type": "code",
   "execution_count": null,
   "metadata": {},
   "outputs": [],
   "source": [
    "df_weather_train[\"meter\"].value_counts().plot(kind=\"bar\", title=\"Meter Type Distribution\")\n",
    "plt.xlabel(\"Meter Type\")\n",
    "plt.ylabel(\"Count\")\n",
    "plt.show()"
   ]
  },
  {
   "cell_type": "code",
   "execution_count": null,
   "metadata": {},
   "outputs": [],
   "source": [
    "df_weather_train[\"timestamp\"] = pd.to_datetime(df_weather_train[\"timestamp\"])\n",
    "df_weather_train[\"hour\"] = df_weather_train[\"timestamp\"].dt.hour\n",
    "df_weather_train[\"day\"] = df_weather_train[\"timestamp\"].dt.day\n",
    "df_weather_train[\"month\"] = df_weather_train[\"timestamp\"].dt.month\n",
    "df_weather_train[\"year\"] = df_weather_train[\"timestamp\"].dt.year"
   ]
  },
  {
   "cell_type": "code",
   "execution_count": null,
   "metadata": {},
   "outputs": [],
   "source": [
    "print(df_weather_train.describe())"
   ]
  },
  {
   "cell_type": "code",
   "execution_count": null,
   "metadata": {},
   "outputs": [],
   "source": [
    "# Distribution of meter readings\n",
    "sns.histplot(df_weather_train['meter_reading'], bins=50, kde=True)\n",
    "plt.title(\"Distribution of Meter Readings\")\n",
    "plt.show()\n",
    "\n",
    "# Trend analysis\n",
    "plt.figure(figsize=(12, 5))\n",
    "sns.lineplot(x=df_weather_train['timestamp'], y=df_weather_train['meter_reading'])\n",
    "plt.title(\"Meter Readings Over Time\")\n",
    "plt.xticks(rotation=45)\n",
    "plt.show()"
   ]
  },
  {
   "cell_type": "code",
   "execution_count": null,
   "metadata": {},
   "outputs": [],
   "source": [
    "import torch\n",
    "import torch.nn as nn\n",
    "import torch.optim as optim\n",
    "\n",
    "# Define Generator Network\n",
    "class Generator(nn.Module):\n",
    "    def __init__(self, input_dim, output_dim):\n",
    "        super(Generator, self).__init__()\n",
    "        self.model = nn.Sequential(\n",
    "            nn.Linear(input_dim, 128),\n",
    "            nn.ReLU(),\n",
    "            nn.Linear(128, 256),\n",
    "            nn.ReLU(),\n",
    "            nn.Linear(256, output_dim)\n",
    "        )\n",
    "\n",
    "    def forward(self, x):\n",
    "        return self.model(x)\n",
    "\n",
    "# Define Discriminator Network\n",
    "class Discriminator(nn.Module):\n",
    "    def __init__(self, input_dim):\n",
    "        super(Discriminator, self).__init__()\n",
    "        self.model = nn.Sequential(\n",
    "            nn.Linear(input_dim, 256),\n",
    "            nn.ReLU(),\n",
    "            nn.Linear(256, 128),\n",
    "            nn.ReLU(),\n",
    "            nn.Linear(128, 1),\n",
    "            nn.Sigmoid()\n",
    "        )\n",
    "\n",
    "    def forward(self, x):\n",
    "        return self.model(x)\n",
    "\n",
    "# Training the GAN\n",
    "def train_gan(real_data, epochs=1000):\n",
    "    input_dim = real_data.shape[1]\n",
    "    generator = Generator(input_dim, input_dim)\n",
    "    discriminator = Discriminator(input_dim)\n",
    "    optimizer_G = optim.Adam(generator.parameters(), lr=0.001)\n",
    "    optimizer_D = optim.Adam(discriminator.parameters(), lr=0.001)\n",
    "    loss_function = nn.BCELoss()\n",
    "\n",
    "    for epoch in range(epochs):\n",
    "        real_labels = torch.ones(real_data.shape[0], 1)\n",
    "        fake_labels = torch.zeros(real_data.shape[0], 1)\n",
    "\n",
    "        # Train Discriminator\n",
    "        optimizer_D.zero_grad()\n",
    "        real_predictions = discriminator(real_data)\n",
    "        real_loss = loss_function(real_predictions, real_labels)\n",
    "\n",
    "        noise = torch.randn(real_data.shape[0], input_dim)\n",
    "        fake_data = generator(noise)\n",
    "        fake_predictions = discriminator(fake_data.detach())\n",
    "        fake_loss = loss_function(fake_predictions, fake_labels)\n",
    "\n",
    "        d_loss = real_loss + fake_loss\n",
    "        d_loss.backward()\n",
    "        optimizer_D.step()\n",
    "\n",
    "        # Train Generator\n",
    "        optimizer_G.zero_grad()\n",
    "        fake_predictions = discriminator(fake_data)\n",
    "        g_loss = loss_function(fake_predictions, real_labels)\n",
    "        g_loss.backward()\n",
    "        optimizer_G.step()\n",
    "\n",
    "        if epoch % 100 == 0:\n",
    "            print(f\"Epoch {epoch}, D Loss: {d_loss.item()}, G Loss: {g_loss.item()}\")\n",
    "\n",
    "    return generator\n",
    "\n",
    "# Convert dataset to tensor and train GAN\n",
    "real_data_tensor = torch.FloatTensor(df_weather_train[['meter_reading']].values)\n",
    "real_data_tensor = real_data_tensor[:10000]\n",
    "generator = train_gan(real_data_tensor, epochs=1000)\n",
    "\n",
    "# Generate synthetic data\n",
    "noise = torch.randn(10000, 1)\n",
    "synthetic_meter_readings = generator(noise).detach().numpy()\n",
    "\n",
    "print(synthetic_meter_readings[:100])"
   ]
  }
 ],
 "metadata": {
  "kernelspec": {
   "display_name": "iotenv",
   "language": "python",
   "name": "python3"
  },
  "language_info": {
   "codemirror_mode": {
    "name": "ipython",
    "version": 3
   },
   "file_extension": ".py",
   "mimetype": "text/x-python",
   "name": "python",
   "nbconvert_exporter": "python",
   "pygments_lexer": "ipython3",
   "version": "3.12.4"
  }
 },
 "nbformat": 4,
 "nbformat_minor": 2
}
