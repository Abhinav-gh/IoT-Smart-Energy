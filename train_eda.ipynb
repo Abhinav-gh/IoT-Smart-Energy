{
 "cells": [
  {
   "cell_type": "code",
   "execution_count": null,
   "metadata": {},
   "outputs": [],
   "source": [
    "import pandas as pd\n",
    "import numpy as np\n",
    "import matplotlib.pyplot as plt"
   ]
  },
  {
   "cell_type": "code",
   "execution_count": null,
   "metadata": {},
   "outputs": [],
   "source": [
    "# df_weather_train = pd.read_csv(\"../ashrae-energy-prediction/train.csv\")\n",
    "df_weather_train = pd.read_csv(\"train.csv\")\n",
    "df_weather_train.info()\n",
    "df_weather_train.head()"
   ]
  },
  {
   "cell_type": "code",
   "execution_count": null,
   "metadata": {},
   "outputs": [],
   "source": [
    "# Load the dataset (assuming you've already read it)\n",
    "df_weather_train.describe()"
   ]
  },
  {
   "cell_type": "code",
   "execution_count": null,
   "metadata": {},
   "outputs": [],
   "source": [
    "df_weather_train.isnull().sum()"
   ]
  },
  {
   "cell_type": "code",
   "execution_count": null,
   "metadata": {},
   "outputs": [],
   "source": [
    "import seaborn as sns\n",
    "import matplotlib.pyplot as plt\n",
    "\n",
    "plt.figure(figsize=(12, 6))\n",
    "sns.histplot(df_weather_train[\"meter_reading\"], bins=50, kde=True)\n",
    "plt.xlabel(\"Meter Reading\")\n",
    "plt.ylabel(\"Frequency\")\n",
    "plt.title(\"Distribution of Meter Readings\")\n",
    "plt.show()"
   ]
  },
  {
   "cell_type": "code",
   "execution_count": null,
   "metadata": {},
   "outputs": [],
   "source": [
    "df_weather_train[\"meter\"].value_counts().plot(kind=\"bar\", title=\"Meter Type Distribution\")\n",
    "plt.xlabel(\"Meter Type\")\n",
    "plt.ylabel(\"Count\")\n",
    "plt.show()"
   ]
  },
  {
   "cell_type": "code",
   "execution_count": null,
   "metadata": {},
   "outputs": [],
   "source": [
    "df_weather_train[\"timestamp\"] = pd.to_datetime(df_weather_train[\"timestamp\"])\n",
    "df_weather_train[\"hour\"] = df_weather_train[\"timestamp\"].dt.hour\n",
    "df_weather_train[\"day\"] = df_weather_train[\"timestamp\"].dt.day\n",
    "df_weather_train[\"month\"] = df_weather_train[\"timestamp\"].dt.month\n",
    "df_weather_train[\"year\"] = df_weather_train[\"timestamp\"].dt.year"
   ]
  },
  {
   "cell_type": "code",
   "execution_count": null,
   "metadata": {},
   "outputs": [],
   "source": [
    "print(df_weather_train.tail())"
   ]
  }
 ],
 "metadata": {
  "kernelspec": {
   "display_name": "Basic_Computer_vision",
   "language": "python",
   "name": "python3"
  },
  "language_info": {
   "codemirror_mode": {
    "name": "ipython",
    "version": 3
   },
   "file_extension": ".py",
   "mimetype": "text/x-python",
   "name": "python",
   "nbconvert_exporter": "python",
   "pygments_lexer": "ipython3",
   "version": "3.8.18"
  }
 },
 "nbformat": 4,
 "nbformat_minor": 2
}
